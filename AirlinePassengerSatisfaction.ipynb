{
 "cells": [
  {
   "cell_type": "code",
   "execution_count": null,
   "metadata": {},
   "outputs": [],
   "source": [
    "# Introduction\n",
    "# First of all, I choice this \"Airline Passenger Satisfaction\" dataset because of \n",
    "# airline statistics intrigued me. Also I choice the \"Flight Distance\" column because \n",
    "# I think that can find there is interesting statistics relations between that passenger \n",
    "# satisfaction and flight distance. This column shows us the flight distance of all passengers. \n",
    "# According to the column information mean is 119k, standard deviation is 997 and quantiles are\n",
    "# Q1 = 414, Q2(Median) = 844, Q3 = 1744. Also, we see the minimum value is 31 and the maximum \n",
    "# value is 4983."
   ]
  },
  {
   "cell_type": "code",
   "execution_count": null,
   "metadata": {},
   "outputs": [],
   "source": [
    "# Content:\n",
    "\n",
    "# Mean of Column Data\n",
    "# Median of Column Data\n",
    "# Variance, Standard Deviation and Standard Error\n",
    "# Decide the Shape of Distribution\n",
    "# Find Outliers\n",
    "# Graph the Column Data and Comment\n",
    "# Boxplot\n",
    "# # This Python 3 environment comes with many helpful analytics libraries installed\n",
    "# # It is defined by the kaggle/python Docker image: https://github.com/kaggle/docker-python\n",
    "# # For example, here's several helpful packages to load"
   ]
  },
  {
   "cell_type": "code",
   "execution_count": 6,
   "metadata": {},
   "outputs": [
    {
     "ename": "OSError",
     "evalue": "'seaborn-whitegrid' is not a valid package style, path of style file, URL of style file, or library style name (library styles are listed in `style.available`)",
     "output_type": "error",
     "traceback": [
      "\u001b[1;31m---------------------------------------------------------------------------\u001b[0m",
      "\u001b[1;31mFileNotFoundError\u001b[0m                         Traceback (most recent call last)",
      "File \u001b[1;32mc:\\Users\\FaridShakir\\AppData\\Local\\Programs\\Python\\Python312\\Lib\\site-packages\\matplotlib\\style\\core.py:137\u001b[0m, in \u001b[0;36muse\u001b[1;34m(style)\u001b[0m\n\u001b[0;32m    136\u001b[0m \u001b[38;5;28;01mtry\u001b[39;00m:\n\u001b[1;32m--> 137\u001b[0m     style \u001b[38;5;241m=\u001b[39m \u001b[43m_rc_params_in_file\u001b[49m\u001b[43m(\u001b[49m\u001b[43mstyle\u001b[49m\u001b[43m)\u001b[49m\n\u001b[0;32m    138\u001b[0m \u001b[38;5;28;01mexcept\u001b[39;00m \u001b[38;5;167;01mOSError\u001b[39;00m \u001b[38;5;28;01mas\u001b[39;00m err:\n",
      "File \u001b[1;32mc:\\Users\\FaridShakir\\AppData\\Local\\Programs\\Python\\Python312\\Lib\\site-packages\\matplotlib\\__init__.py:870\u001b[0m, in \u001b[0;36m_rc_params_in_file\u001b[1;34m(fname, transform, fail_on_error)\u001b[0m\n\u001b[0;32m    869\u001b[0m rc_temp \u001b[38;5;241m=\u001b[39m {}\n\u001b[1;32m--> 870\u001b[0m \u001b[43m\u001b[49m\u001b[38;5;28;43;01mwith\u001b[39;49;00m\u001b[43m \u001b[49m\u001b[43m_open_file_or_url\u001b[49m\u001b[43m(\u001b[49m\u001b[43mfname\u001b[49m\u001b[43m)\u001b[49m\u001b[43m \u001b[49m\u001b[38;5;28;43;01mas\u001b[39;49;00m\u001b[43m \u001b[49m\u001b[43mfd\u001b[49m\u001b[43m:\u001b[49m\n\u001b[0;32m    871\u001b[0m \u001b[43m    \u001b[49m\u001b[38;5;28;43;01mtry\u001b[39;49;00m\u001b[43m:\u001b[49m\n",
      "File \u001b[1;32mc:\\Users\\FaridShakir\\AppData\\Local\\Programs\\Python\\Python312\\Lib\\contextlib.py:137\u001b[0m, in \u001b[0;36m_GeneratorContextManager.__enter__\u001b[1;34m(self)\u001b[0m\n\u001b[0;32m    136\u001b[0m \u001b[38;5;28;01mtry\u001b[39;00m:\n\u001b[1;32m--> 137\u001b[0m     \u001b[38;5;28;01mreturn\u001b[39;00m \u001b[38;5;28;43mnext\u001b[39;49m\u001b[43m(\u001b[49m\u001b[38;5;28;43mself\u001b[39;49m\u001b[38;5;241;43m.\u001b[39;49m\u001b[43mgen\u001b[49m\u001b[43m)\u001b[49m\n\u001b[0;32m    138\u001b[0m \u001b[38;5;28;01mexcept\u001b[39;00m \u001b[38;5;167;01mStopIteration\u001b[39;00m:\n",
      "File \u001b[1;32mc:\\Users\\FaridShakir\\AppData\\Local\\Programs\\Python\\Python312\\Lib\\site-packages\\matplotlib\\__init__.py:847\u001b[0m, in \u001b[0;36m_open_file_or_url\u001b[1;34m(fname)\u001b[0m\n\u001b[0;32m    846\u001b[0m fname \u001b[38;5;241m=\u001b[39m os\u001b[38;5;241m.\u001b[39mpath\u001b[38;5;241m.\u001b[39mexpanduser(fname)\n\u001b[1;32m--> 847\u001b[0m \u001b[38;5;28;01mwith\u001b[39;00m \u001b[38;5;28;43mopen\u001b[39;49m\u001b[43m(\u001b[49m\u001b[43mfname\u001b[49m\u001b[43m,\u001b[49m\u001b[43m \u001b[49m\u001b[43mencoding\u001b[49m\u001b[38;5;241;43m=\u001b[39;49m\u001b[38;5;124;43m'\u001b[39;49m\u001b[38;5;124;43mutf-8\u001b[39;49m\u001b[38;5;124;43m'\u001b[39;49m\u001b[43m)\u001b[49m \u001b[38;5;28;01mas\u001b[39;00m f:\n\u001b[0;32m    848\u001b[0m     \u001b[38;5;28;01myield\u001b[39;00m f\n",
      "\u001b[1;31mFileNotFoundError\u001b[0m: [Errno 2] No such file or directory: 'seaborn-whitegrid'",
      "\nThe above exception was the direct cause of the following exception:\n",
      "\u001b[1;31mOSError\u001b[0m                                   Traceback (most recent call last)",
      "Cell \u001b[1;32mIn[6], line 7\u001b[0m\n\u001b[0;32m      5\u001b[0m \u001b[38;5;28;01mimport\u001b[39;00m \u001b[38;5;21;01mmath\u001b[39;00m\n\u001b[0;32m      6\u001b[0m \u001b[38;5;28;01mimport\u001b[39;00m \u001b[38;5;21;01mmatplotlib\u001b[39;00m\u001b[38;5;21;01m.\u001b[39;00m\u001b[38;5;21;01mpyplot\u001b[39;00m \u001b[38;5;28;01mas\u001b[39;00m \u001b[38;5;21;01mplt\u001b[39;00m\n\u001b[1;32m----> 7\u001b[0m \u001b[43mplt\u001b[49m\u001b[38;5;241;43m.\u001b[39;49m\u001b[43mstyle\u001b[49m\u001b[38;5;241;43m.\u001b[39;49m\u001b[43muse\u001b[49m\u001b[43m(\u001b[49m\u001b[38;5;124;43m\"\u001b[39;49m\u001b[38;5;124;43mseaborn-whitegrid\u001b[39;49m\u001b[38;5;124;43m\"\u001b[39;49m\u001b[43m)\u001b[49m\n\u001b[0;32m      8\u001b[0m \u001b[38;5;28;01mimport\u001b[39;00m \u001b[38;5;21;01mseaborn\u001b[39;00m \u001b[38;5;28;01mas\u001b[39;00m \u001b[38;5;21;01msns\u001b[39;00m\n\u001b[0;32m      9\u001b[0m \u001b[38;5;28;01mfrom\u001b[39;00m \u001b[38;5;21;01mcollections\u001b[39;00m \u001b[38;5;28;01mimport\u001b[39;00m Counter\n",
      "File \u001b[1;32mc:\\Users\\FaridShakir\\AppData\\Local\\Programs\\Python\\Python312\\Lib\\site-packages\\matplotlib\\style\\core.py:139\u001b[0m, in \u001b[0;36muse\u001b[1;34m(style)\u001b[0m\n\u001b[0;32m    137\u001b[0m         style \u001b[38;5;241m=\u001b[39m _rc_params_in_file(style)\n\u001b[0;32m    138\u001b[0m     \u001b[38;5;28;01mexcept\u001b[39;00m \u001b[38;5;167;01mOSError\u001b[39;00m \u001b[38;5;28;01mas\u001b[39;00m err:\n\u001b[1;32m--> 139\u001b[0m         \u001b[38;5;28;01mraise\u001b[39;00m \u001b[38;5;167;01mOSError\u001b[39;00m(\n\u001b[0;32m    140\u001b[0m             \u001b[38;5;124mf\u001b[39m\u001b[38;5;124m\"\u001b[39m\u001b[38;5;132;01m{\u001b[39;00mstyle\u001b[38;5;132;01m!r}\u001b[39;00m\u001b[38;5;124m is not a valid package style, path of style \u001b[39m\u001b[38;5;124m\"\u001b[39m\n\u001b[0;32m    141\u001b[0m             \u001b[38;5;124mf\u001b[39m\u001b[38;5;124m\"\u001b[39m\u001b[38;5;124mfile, URL of style file, or library style name (library \u001b[39m\u001b[38;5;124m\"\u001b[39m\n\u001b[0;32m    142\u001b[0m             \u001b[38;5;124mf\u001b[39m\u001b[38;5;124m\"\u001b[39m\u001b[38;5;124mstyles are listed in `style.available`)\u001b[39m\u001b[38;5;124m\"\u001b[39m) \u001b[38;5;28;01mfrom\u001b[39;00m \u001b[38;5;21;01merr\u001b[39;00m\n\u001b[0;32m    143\u001b[0m filtered \u001b[38;5;241m=\u001b[39m {}\n\u001b[0;32m    144\u001b[0m \u001b[38;5;28;01mfor\u001b[39;00m k \u001b[38;5;129;01min\u001b[39;00m style:  \u001b[38;5;66;03m# don't trigger RcParams.__getitem__('backend')\u001b[39;00m\n",
      "\u001b[1;31mOSError\u001b[0m: 'seaborn-whitegrid' is not a valid package style, path of style file, URL of style file, or library style name (library styles are listed in `style.available`)"
     ]
    }
   ],
   "source": [
    "import numpy as np # linear algebra\n",
    "import pandas as pd # data processing, CSV file I/O (e.g. pd.read_csv)\n",
    "import plotly.express as px\n",
    "import statistics\n",
    "import math\n",
    "import matplotlib.pyplot as plt\n",
    "plt.style.use(\"seaborn-whitegrid\")\n",
    "import seaborn as sns\n",
    "from collections import Counter\n",
    "import warnings\n",
    "warnings.filterwarnings(\"ignore\")\n",
    "# Input data files are available in the read-only \"../input/\" directory\n",
    "# For example, running this (by clicking run or pressing Shift+Enter) will \n",
    "# list all files under the input directory\n",
    "import os\n",
    "for dirname, _, filenames in os.walk(\"C:/Users/FaridShakir/Desktop/Math/airline_passenger_satisfaction.csv\"):\n",
    "    for filename in filenames:\n",
    "        print(os.path.join(dirname, filename))\n",
    "\n",
    "# You can write up to 20GB to the current directory (/kaggle/working/) that gets preserved \n",
    "# as output when you create a version using \"Save & Run All\"\n",
    "# You can also write temporary files to /kaggle/temp/, but they won't be saved outside \n",
    "# of the current session"
   ]
  },
  {
   "cell_type": "code",
   "execution_count": null,
   "metadata": {},
   "outputs": [],
   "source": [
    "# /kaggle/input/airline-passenger-satisfaction/data_dictionary.csv\n",
    "# /kaggle/input/airline-passenger-satisfaction/airline_passenger_satisfaction.csv\n",
    "# train_df = pd.read_csv(\"/kaggle/input/airline-passenger-satisfaction/data_dictionary.csv\")\n",
    "# test_df = pd.read_csv(\"/kaggle/input/airline-passenger-satisfaction/airline_passenger_satisfaction.csv\")\n",
    "# /kaggle/input/airline-passenger-satisfaction/data_dictionary.csv\n",
    "# /kaggle/input/airline-passenger-satisfaction/airline_passenger_satisfaction.csv\n"
   ]
  },
  {
   "cell_type": "code",
   "execution_count": 7,
   "metadata": {},
   "outputs": [
    {
     "ename": "SyntaxError",
     "evalue": "unterminated string literal (detected at line 2) (3220907695.py, line 2)",
     "output_type": "error",
     "traceback": [
      "\u001b[1;36m  Cell \u001b[1;32mIn[7], line 2\u001b[1;36m\u001b[0m\n\u001b[1;33m    test_df = pd.read_csv(\"C:\\Users\\FaridShakir\\Desktop\\New folder\\airline_passenger_satisfaction.csv\"\")\u001b[0m\n\u001b[1;37m                                                                                                      ^\u001b[0m\n\u001b[1;31mSyntaxError\u001b[0m\u001b[1;31m:\u001b[0m unterminated string literal (detected at line 2)\n"
     ]
    }
   ],
   "source": [
    "train_df = pd.read_csv(\"C:\\Users\\FaridShakir\\Desktop\\New folder\\airline_passenger_satisfaction.csv\")\n",
    "test_df = pd.read_csv(\"C:\\Users\\FaridShakir\\Desktop\\New folder\\airline_passenger_satisfaction.csv\"\")"
   ]
  },
  {
   "cell_type": "code",
   "execution_count": null,
   "metadata": {},
   "outputs": [],
   "source": [
    "# To find a mean of column data, we have to sum all elements of the column data \n",
    "# and divided by the column length."
   ]
  },
  {
   "cell_type": "code",
   "execution_count": 9,
   "metadata": {},
   "outputs": [
    {
     "ename": "NameError",
     "evalue": "name 'test_df' is not defined",
     "output_type": "error",
     "traceback": [
      "\u001b[1;31m---------------------------------------------------------------------------\u001b[0m",
      "\u001b[1;31mNameError\u001b[0m                                 Traceback (most recent call last)",
      "Cell \u001b[1;32mIn[9], line 16\u001b[0m\n\u001b[0;32m     12\u001b[0m     mean \u001b[38;5;241m=\u001b[39m mean \u001b[38;5;241m/\u001b[39m n\n\u001b[0;32m     14\u001b[0m     \u001b[38;5;28;01mreturn\u001b[39;00m mean\n\u001b[1;32m---> 16\u001b[0m \u001b[38;5;28mprint\u001b[39m(\u001b[38;5;124m\"\u001b[39m\u001b[38;5;124mMean:\u001b[39m\u001b[38;5;124m\"\u001b[39m, mean(\u001b[43mtest_df\u001b[49m[\u001b[38;5;124m\"\u001b[39m\u001b[38;5;124mFlight Distance\u001b[39m\u001b[38;5;124m\"\u001b[39m]))\n",
      "\u001b[1;31mNameError\u001b[0m: name 'test_df' is not defined"
     ]
    }
   ],
   "source": [
    "def mean(df):\n",
    "    arr = np.array(df)\n",
    "    mean = 0\n",
    "\n",
    "    df_size = test_df.set_index(df)\n",
    "    #print(len(df_size))\n",
    "    n = len(df_size)\n",
    "\n",
    "    for b in arr:\n",
    "        mean = (mean + b)\n",
    "\n",
    "    mean = mean / n\n",
    "\n",
    "    return mean\n",
    "   \n",
    "print(\"Mean:\", mean(test_df[\"Flight Distance\"]))\n"
   ]
  },
  {
   "cell_type": "code",
   "execution_count": null,
   "metadata": {},
   "outputs": [],
   "source": [
    "# Median of Column Data\n",
    "#     To find the median value of the column, we have to sort the dataset and check \n",
    "# if the dataset length is even or odd. If the dataset length is an odd number, the median\n",
    "#  value will be the middle value of the dataset. If the dataset length is an even number,\n",
    "#  the median value will be the \n",
    "# average of the two middle values"
   ]
  },
  {
   "cell_type": "code",
   "execution_count": 1,
   "metadata": {},
   "outputs": [
    {
     "ename": "NameError",
     "evalue": "name 'test_df' is not defined",
     "output_type": "error",
     "traceback": [
      "\u001b[1;31m---------------------------------------------------------------------------\u001b[0m",
      "\u001b[1;31mNameError\u001b[0m                                 Traceback (most recent call last)",
      "Cell \u001b[1;32mIn[1], line 13\u001b[0m\n\u001b[0;32m      9\u001b[0m     \u001b[38;5;28;01melse\u001b[39;00m:\n\u001b[0;32m     10\u001b[0m         \u001b[38;5;28;01mreturn\u001b[39;00m sortedDf[middle]\n\u001b[1;32m---> 13\u001b[0m \u001b[38;5;28mprint\u001b[39m(\u001b[38;5;124m\"\u001b[39m\u001b[38;5;124mMedian:\u001b[39m\u001b[38;5;124m\"\u001b[39m, median(\u001b[43mtest_df\u001b[49m[\u001b[38;5;124m\"\u001b[39m\u001b[38;5;124mFlight Distance\u001b[39m\u001b[38;5;124m\"\u001b[39m]))\n",
      "\u001b[1;31mNameError\u001b[0m: name 'test_df' is not defined"
     ]
    }
   ],
   "source": [
    "def median(df):\n",
    "    sortedDf = sorted(df)\n",
    "    dfLen = len(df)\n",
    "    middle = (dfLen - 1) // 2\n",
    "  \n",
    "    if (dfLen % 2 == 0):\n",
    "        return (sortedDf[middle] + sortedDf[middle + 1])/2.0\n",
    "       \n",
    "    else:\n",
    "        return sortedDf[middle]\n",
    "     \n",
    "\n",
    "print(\"Median:\", median(test_df[\"Flight Distance\"]))"
   ]
  },
  {
   "cell_type": "code",
   "execution_count": null,
   "metadata": {},
   "outputs": [],
   "source": [
    "# Variance, Standard Deviation and Standard Error\n",
    "# Variance:\n",
    "# Variance tells you the degree of spread in your data set. The more spread \n",
    "# the data, the larger the variance is in relation to the mean. A large \n",
    "# variance means that the values have a large deviation from the arithmetic \n",
    "# mean. To calculate variance, first of all we will subtract the mean from each \n",
    "# value and square the results obtained. After that, we have to sum all squares, \n",
    "# than finally divede the sum of squares \n",
    "# by n(when you work with population)."
   ]
  },
  {
   "cell_type": "code",
   "execution_count": null,
   "metadata": {},
   "outputs": [],
   "source": [
    "# Standard Deviation:\n",
    "# The standard deviation is the average amount of variability \n",
    "# in your dataset. The standard deviation shows us on average, \n",
    "# how far each value lies from the mean. If the value of the \n",
    "# standard deviation ıs hıght that means values are generally \n",
    "# far from the mean. It is calculated by squaring the variance.\n"
   ]
  },
  {
   "cell_type": "code",
   "execution_count": null,
   "metadata": {},
   "outputs": [],
   "source": [
    "# Standard Error:\n",
    "# The standard error tells us, how different the \n",
    "# population mean is likely to be from a sample mean. \n",
    "# It is calculated by dividing the standard deviation \n",
    "# by the square root of the number of elements.\n"
   ]
  },
  {
   "cell_type": "code",
   "execution_count": null,
   "metadata": {},
   "outputs": [],
   "source": [
    "def variance(df):\n",
    "    # Number of observations\n",
    "    n = len(df)\n",
    "    # Mean of the data\n",
    "    mean = sum(df) / n\n",
    "    # Square deviations\n",
    "    deviations = [(x - mean) ** 2 for x in df]\n",
    "    # Variance\n",
    "    variance = sum(deviations) / n \n",
    "    return variance\n",
    "\n",
    "print(\"Variance:\",variance(test_df[\"Flight Distance\"]))"
   ]
  },
  {
   "cell_type": "code",
   "execution_count": null,
   "metadata": {},
   "outputs": [],
   "source": [
    "def stdev(df):\n",
    "    var = variance(df)\n",
    "    std_dev = math.sqrt(var)\n",
    "    return std_dev\n",
    "\n",
    "print(\"Standart Deviation:\", stdev(test_df[\"Flight Distance\"]))"
   ]
  },
  {
   "cell_type": "code",
   "execution_count": null,
   "metadata": {},
   "outputs": [],
   "source": [
    "def std_error(df):\n",
    "    df_size = test_df.set_index([\"Flight Distance\"])\n",
    "    #print(len(df_size))\n",
    "    n = len(df_size)\n",
    "    std_error = stdev(test_df[\"Flight Distance\"]) / np.sqrt(n)\n",
    "    return std_error\n",
    "\n",
    "print(\"Standart Error:\", std_error(test_df[\"Flight Distance\"]))"
   ]
  },
  {
   "cell_type": "code",
   "execution_count": null,
   "metadata": {},
   "outputs": [],
   "source": [
    "\n",
    "# Decide the Shape of Distribution\n",
    "# Shape of distribution type is determined by\n",
    "# the values of the average and the median. If the mean bigger than median, \n",
    "# the shape of distribution will be Right-Skewed(Positively Skewed) distribution, \n",
    "# if median bigger than mean, the shape of distribution will be \n",
    "# Left-Skewed(Negatively Skewed) distribution. If mean and median are equal than\n",
    "# the shape of distribution will be Normal(Symmetric) distribution. Our case \n",
    "# we have a Right-Skewed(Positively Skewed) distribution for \n",
    "# \"Flight Distance\" column, because the mean bigger than the median."
   ]
  },
  {
   "cell_type": "code",
   "execution_count": null,
   "metadata": {},
   "outputs": [],
   "source": [
    "def dist(df):\n",
    "   \n",
    "    me = mean(df)\n",
    "    med = median(df)\n",
    "   \n",
    "    if (me) >(med):\n",
    "        print(\"The shape of distribution of data is Right-Skewed(Positively Skewed) distribution. \")\n",
    "    elif (me) < (med):\n",
    "        print(\"The shape of distribution of data is Left-Skewed(Negatively Skewed) distribution. \")\n",
    "    elif (me) == (med):\n",
    "        print(\"The shape of distribution of data is Normal(Symmetric) distribution. \")\n",
    "       \n",
    "dist(test_df[\"Flight Distance\"])"
   ]
  },
  {
   "cell_type": "code",
   "execution_count": null,
   "metadata": {},
   "outputs": [],
   "source": [
    "# The shape of distribution of data is Right-Skewed(Positively Skewed) distribution.\n",
    "\n",
    "# Find Outliers\n",
    "# The outliers are as known as the extreme values of the dataset.\n",
    "# This means extreme values are different from all other values on\n",
    "# the dataset. If we want a consistent statistical result, we should \n",
    "# clear them, because they can cause a huge effect on your statistic.\n",
    "# To find outliers we have to calculate lower fence and upper fence, \n",
    "# First of all, we will subtract q1 from q3 to find IQR. After that, \n",
    "# to find the lower fence we have to will subtract (1.5 * IQR) from \n",
    "# q1 and to find the upper fence we have to sum Q3 with (1.5 * IQR).\n",
    "# After we find fences, values which bigger than the \n",
    "# upper fence and smaller than the lower fence are called outliers."
   ]
  },
  {
   "cell_type": "code",
   "execution_count": null,
   "metadata": {},
   "outputs": [],
   "source": [
    "def detect_outlier(df, features):\n",
    "    outlier_indices = []\n",
    "   \n",
    "    for c in features:\n",
    "        # 1st quartile\n",
    "        q1 = np.percentile(df[c],25)\n",
    "        # 3rd quartile\n",
    "        q3 =  np.percentile(df[c],75)\n",
    "        #IQR\n",
    "        iqr = q3 - q1\n",
    "        # Outlier step\n",
    "        outlier_step = iqr * 1.5\n",
    "        # Detect outliers and their indeces\n",
    "        outlier_list_col = df[(df[c]< q1 - outlier_step) | (df[c]> q3 + outlier_step)].index\n",
    "        # Store indeces\n",
    "        outlier_indices.extend(outlier_list_col)\n",
    "        # counter = finds how many times the element is repeated.\n",
    "    outlier_indices = Counter(outlier_indices)\n",
    "    multiple_outliers = list(i for i, v in outlier_indices.items())\n",
    "    return multiple_outliers    \n",
    "   "
   ]
  },
  {
   "cell_type": "code",
   "execution_count": null,
   "metadata": {},
   "outputs": [],
   "source": [
    "test_df.loc[detect_outlier(test_df, [\"Flight Distance\"])]"
   ]
  },
  {
   "cell_type": "code",
   "execution_count": null,
   "metadata": {},
   "outputs": [],
   "source": [
    "\n",
    "# Graph the Column Data and Make Comment\n",
    "df = px.data.tips()\n",
    "fig = px.histogram(df, x=test_df[\"Flight Distance\"])\n",
    "fig.show()"
   ]
  },
  {
   "cell_type": "code",
   "execution_count": null,
   "metadata": {},
   "outputs": [],
   "source": [
    "# According to histogram, we can say the histogram shape \n",
    "# is Right-Skewed(Positively Skewed) distribution. This \n",
    "# is because the mean bigger than median. Also we can see\n",
    "# the number of flight distance which is most repetitive as a mod."
   ]
  },
  {
   "cell_type": "code",
   "execution_count": null,
   "metadata": {},
   "outputs": [],
   "source": [
    "test_df.boxplot(column = \"Flight Distance\")\n",
    "plt.show()\n"
   ]
  },
  {
   "cell_type": "code",
   "execution_count": null,
   "metadata": {},
   "outputs": [],
   "source": [
    "# Fristly, when we look at the boxplot, we can see Q1, Q2 and Q3\n",
    "# value, median, maximum and minimum value, and also outliers.\n",
    "# We see that all the outliers are above the maximum value. Also, \n",
    "# according to the shape of the box plot, we can say that it has\n",
    "# the shape of the distribution that we know as \n",
    "# the Right Skewed (Positive Skewed) distribution."
   ]
  }
 ],
 "metadata": {
  "kernelspec": {
   "display_name": "Python 3",
   "language": "python",
   "name": "python3"
  },
  "language_info": {
   "codemirror_mode": {
    "name": "ipython",
    "version": 3
   },
   "file_extension": ".py",
   "mimetype": "text/x-python",
   "name": "python",
   "nbconvert_exporter": "python",
   "pygments_lexer": "ipython3",
   "version": "3.12.0"
  }
 },
 "nbformat": 4,
 "nbformat_minor": 2
}
